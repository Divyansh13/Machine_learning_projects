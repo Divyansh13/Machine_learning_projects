{
 "cells": [
  {
   "cell_type": "code",
   "execution_count": 1,
   "metadata": {},
   "outputs": [],
   "source": [
    "# Libraries \n",
    "import numpy as np \n",
    "import pandas as pd \n",
    "import matplotlib.pyplot as plt\n",
    "import tensorflow as tf\n",
    "import cv2\n",
    "from PIL import Image\n",
    "import os"
   ]
  },
  {
   "cell_type": "code",
   "execution_count": 32,
   "metadata": {},
   "outputs": [
    {
     "name": "stdout",
     "output_type": "stream",
     "text": [
      "(39209, 30, 30, 3)\n",
      "(39209,)\n"
     ]
    }
   ],
   "source": [
    "# Use cv2 to read the images, convert them to RGB and out in numpy array\n",
    "\n",
    "data=[]\n",
    "labels=[]\n",
    "\n",
    "height = 30\n",
    "width = 30\n",
    "channels = 3\n",
    "classes = 43\n",
    "n_inputs = height * width * channels\n",
    "\n",
    "for i in range(classes):\n",
    "    path = \"Train/{0}/\".format(i)\n",
    "    #print(path)\n",
    "    Class=os.listdir(path)\n",
    "    \n",
    "    for a in Class:\n",
    "        try:\n",
    "            image = cv2.imread(path+a)\n",
    "            image_from_array = Image.fromarray(image,\"RGB\")\n",
    "            size_image = image_from_array.resize((height,width))\n",
    "            data.append(np.array(size_image))\n",
    "            labels.append(i)\n",
    "        except AttributeError:\n",
    "            pass\n",
    "\n",
    "Cells = np.array(data) # Array of train images data\n",
    "labels=np.array(labels) # Array of label image data\n",
    "\n",
    "print(Cells.shape)\n",
    "print(labels.shape)"
   ]
  },
  {
   "cell_type": "code",
   "execution_count": 44,
   "metadata": {},
   "outputs": [
    {
     "data": {
      "text/plain": [
       "(39209, 30, 30, 3)"
      ]
     },
     "execution_count": 44,
     "metadata": {},
     "output_type": "execute_result"
    }
   ],
   "source": [
    "# Randomize the order of the input images\n",
    "\n",
    "s=np.arange(Cells.shape[0])\n",
    "np.random.seed(43)\n",
    "np.random.shuffle(s)\n",
    "Cells=Cells[s]\n",
    "labels=labels[s]\n",
    "              "
   ]
  },
  {
   "cell_type": "code",
   "execution_count": 46,
   "metadata": {},
   "outputs": [],
   "source": [
    "# Splitting train and validation dataset in 80% and 20% respectively\n",
    "(X_train, X_val)=Cells[(int)(0.2*len(labels)):],Cells[:(int)(0.2*len(labels))]\n",
    "\n",
    "X_train = X_train.astype('float32')/255 \n",
    "X_val = X_val.astype('float32')/255\n",
    "\n",
    "(y_train,y_val)=labels[(int)(0.2*len(labels)):],labels[:(int)(0.2*len(labels))]\n",
    "\n",
    "# Conduct one hot encoding for this classification\n",
    "from keras.utils import to_categorical\n",
    "y_train = to_categorical(y_train,43)\n",
    "y_val = to_categorical(y_val,43)"
   ]
  },
  {
   "cell_type": "code",
   "execution_count": 48,
   "metadata": {},
   "outputs": [
    {
     "name": "stdout",
     "output_type": "stream",
     "text": [
      "_________________________________________________________________\n",
      "Layer (type)                 Output Shape              Param #   \n",
      "=================================================================\n",
      "conv2d_4 (Conv2D)            (None, 26, 26, 32)        2432      \n",
      "_________________________________________________________________\n",
      "conv2d_5 (Conv2D)            (None, 24, 24, 64)        18496     \n",
      "_________________________________________________________________\n",
      "max_pooling2d_3 (MaxPooling2 (None, 12, 12, 64)        0         \n",
      "_________________________________________________________________\n",
      "dropout_4 (Dropout)          (None, 12, 12, 64)        0         \n",
      "_________________________________________________________________\n",
      "conv2d_6 (Conv2D)            (None, 10, 10, 64)        36928     \n",
      "_________________________________________________________________\n",
      "max_pooling2d_4 (MaxPooling2 (None, 5, 5, 64)          0         \n",
      "_________________________________________________________________\n",
      "dropout_5 (Dropout)          (None, 5, 5, 64)          0         \n",
      "_________________________________________________________________\n",
      "flatten_2 (Flatten)          (None, 1600)              0         \n",
      "_________________________________________________________________\n",
      "dense_3 (Dense)              (None, 256)               409856    \n",
      "_________________________________________________________________\n",
      "dropout_6 (Dropout)          (None, 256)               0         \n",
      "_________________________________________________________________\n",
      "dense_4 (Dense)              (None, 43)                11051     \n",
      "=================================================================\n",
      "Total params: 478,763\n",
      "Trainable params: 478,763\n",
      "Non-trainable params: 0\n",
      "_________________________________________________________________\n"
     ]
    }
   ],
   "source": [
    "# Define the layers of the model\n",
    "\n",
    "from keras.models import Sequential\n",
    "from keras.layers import Conv2D, MaxPool2D, Dense, Flatten, Dropout\n",
    "\n",
    "model = Sequential()\n",
    "model.add(Conv2D(filters=32, kernel_size=(5,5), activation='relu', input_shape=X_train.shape[1:]))\n",
    "model.add(Conv2D(filters=64, kernel_size=(3, 3), activation='relu'))\n",
    "model.add(MaxPool2D(pool_size=(2, 2)))\n",
    "model.add(Dropout(rate=0.25))\n",
    "model.add(Conv2D(filters=64, kernel_size=(3, 3), activation='relu'))\n",
    "model.add(MaxPool2D(pool_size=(2, 2)))\n",
    "model.add(Dropout(rate=0.25))\n",
    "model.add(Flatten())\n",
    "model.add(Dense(256, activation='relu'))\n",
    "model.add(Dropout(rate=0.5))\n",
    "model.add(Dense(43, activation='softmax'))\n",
    "\n",
    "#Compilation of the model\n",
    "model.compile(\n",
    "    loss='categorical_crossentropy', \n",
    "    optimizer='adam', \n",
    "    metrics=['accuracy']\n",
    ")\n",
    "\n",
    "model.summary()"
   ]
  },
  {
   "cell_type": "code",
   "execution_count": 49,
   "metadata": {},
   "outputs": [
    {
     "name": "stdout",
     "output_type": "stream",
     "text": [
      "WARNING:tensorflow:From /usr/local/lib/python3.6/dist-packages/tensorflow/python/ops/math_ops.py:3066: to_int32 (from tensorflow.python.ops.math_ops) is deprecated and will be removed in a future version.\n",
      "Instructions for updating:\n",
      "Use tf.cast instead.\n",
      "Train on 31368 samples, validate on 7841 samples\n",
      "Epoch 1/20\n",
      "31368/31368 [==============================] - 64s 2ms/step - loss: 1.2183 - acc: 0.6501 - val_loss: 0.1905 - val_acc: 0.9491\n",
      "Epoch 2/20\n",
      "31368/31368 [==============================] - 56s 2ms/step - loss: 0.2748 - acc: 0.9128 - val_loss: 0.0926 - val_acc: 0.9736\n",
      "Epoch 3/20\n",
      "31368/31368 [==============================] - 61s 2ms/step - loss: 0.1737 - acc: 0.9466 - val_loss: 0.0575 - val_acc: 0.9850\n",
      "Epoch 4/20\n",
      "31368/31368 [==============================] - 51s 2ms/step - loss: 0.1309 - acc: 0.9598 - val_loss: 0.0539 - val_acc: 0.9839\n",
      "Epoch 5/20\n",
      "31368/31368 [==============================] - 54s 2ms/step - loss: 0.1123 - acc: 0.9657 - val_loss: 0.0417 - val_acc: 0.9892\n",
      "Epoch 6/20\n",
      "31368/31368 [==============================] - 62s 2ms/step - loss: 0.0963 - acc: 0.9708 - val_loss: 0.0395 - val_acc: 0.9888\n",
      "Epoch 7/20\n",
      "31368/31368 [==============================] - 67s 2ms/step - loss: 0.0863 - acc: 0.9738 - val_loss: 0.0371 - val_acc: 0.9894\n",
      "Epoch 8/20\n",
      "31368/31368 [==============================] - 58s 2ms/step - loss: 0.0791 - acc: 0.9757 - val_loss: 0.0280 - val_acc: 0.9925\n",
      "Epoch 9/20\n",
      "31368/31368 [==============================] - 55s 2ms/step - loss: 0.0679 - acc: 0.9792 - val_loss: 0.0366 - val_acc: 0.9908\n",
      "Epoch 10/20\n",
      "31368/31368 [==============================] - 53s 2ms/step - loss: 0.0705 - acc: 0.9779 - val_loss: 0.0270 - val_acc: 0.9931\n",
      "Epoch 11/20\n",
      "31368/31368 [==============================] - 55s 2ms/step - loss: 0.0658 - acc: 0.9798 - val_loss: 0.0245 - val_acc: 0.9946\n",
      "Epoch 12/20\n",
      "31368/31368 [==============================] - 55s 2ms/step - loss: 0.0708 - acc: 0.9783 - val_loss: 0.0211 - val_acc: 0.9953\n",
      "Epoch 13/20\n",
      "31368/31368 [==============================] - 51s 2ms/step - loss: 0.0542 - acc: 0.9825 - val_loss: 0.0197 - val_acc: 0.9940\n",
      "Epoch 14/20\n",
      "31368/31368 [==============================] - 50s 2ms/step - loss: 0.0543 - acc: 0.9837 - val_loss: 0.0244 - val_acc: 0.9935\n",
      "Epoch 15/20\n",
      "31368/31368 [==============================] - 59s 2ms/step - loss: 0.0548 - acc: 0.9837 - val_loss: 0.0235 - val_acc: 0.9946\n",
      "Epoch 16/20\n",
      "31368/31368 [==============================] - 80s 3ms/step - loss: 0.0565 - acc: 0.9834 - val_loss: 0.0178 - val_acc: 0.9952\n",
      "Epoch 17/20\n",
      "31368/31368 [==============================] - 69s 2ms/step - loss: 0.0507 - acc: 0.9852 - val_loss: 0.0187 - val_acc: 0.9953\n",
      "Epoch 18/20\n",
      "31368/31368 [==============================] - 66s 2ms/step - loss: 0.0527 - acc: 0.9849 - val_loss: 0.0266 - val_acc: 0.9925\n",
      "Epoch 19/20\n",
      "31368/31368 [==============================] - 65s 2ms/step - loss: 0.0512 - acc: 0.9853 - val_loss: 0.0184 - val_acc: 0.9955\n",
      "Epoch 20/20\n",
      "31368/31368 [==============================] - 66s 2ms/step - loss: 0.0516 - acc: 0.9845 - val_loss: 0.0254 - val_acc: 0.9940\n"
     ]
    }
   ],
   "source": [
    "# Trainning model\n",
    "\n",
    "epochs = 20\n",
    "result = model.fit(X_train, y_train, batch_size=32, epochs=epochs,\n",
    "validation_data=(X_val, y_val))"
   ]
  },
  {
   "cell_type": "code",
   "execution_count": 50,
   "metadata": {},
   "outputs": [],
   "source": [
    "model.save(\"Traffic_sign_recognition.h5\")"
   ]
  },
  {
   "cell_type": "code",
   "execution_count": 52,
   "metadata": {},
   "outputs": [
    {
     "data": {
      "text/plain": [
       "<matplotlib.legend.Legend at 0x7f0ca25859e8>"
      ]
     },
     "execution_count": 52,
     "metadata": {},
     "output_type": "execute_result"
    },
    {
     "data": {
      "image/png": "[encoded data removed]",
      "text/plain": [
       "<Figure size 432x288 with 1 Axes>"
      ]
     },
     "metadata": {},
     "output_type": "display_data"
    },
    {
     "data": {
      "image/png": "[encoded data removed]",
      "text/plain": [
       "<Figure size 432x288 with 1 Axes>"
      ]
     },
     "metadata": {},
     "output_type": "display_data"
    }
   ],
   "source": [
    "plt.figure(0)\n",
    "plt.plot(result.history['acc'], label='training accuracy')\n",
    "plt.plot(result.history['val_acc'], label='val accuracy')\n",
    "plt.title('Accuracy')\n",
    "plt.xlabel('epochs')\n",
    "plt.ylabel('accuracy')\n",
    "plt.legend()\n",
    "\n",
    "plt.figure(1)\n",
    "plt.plot(result.history['loss'], label='training loss')\n",
    "plt.plot(result.history['val_loss'], label='val loss')\n",
    "plt.title('Loss')\n",
    "plt.xlabel('epochs')\n",
    "plt.ylabel('loss')\n",
    "plt.legend()"
   ]
  },
  {
   "cell_type": "code",
   "execution_count": 62,
   "metadata": {},
   "outputs": [
    {
     "data": {
      "text/html": [
       "<div>\n",
       "<style scoped>\n",
       "    .dataframe tbody tr th:only-of-type {\n",
       "        vertical-align: middle;\n",
       "    }\n",
       "\n",
       "    .dataframe tbody tr th {\n",
       "        vertical-align: top;\n",
       "    }\n",
       "\n",
       "    .dataframe thead th {\n",
       "        text-align: right;\n",
       "    }\n",
       "</style>\n",
       "<table border=\"1\" class=\"dataframe\">\n",
       "  <thead>\n",
       "    <tr style=\"text-align: right;\">\n",
       "      <th></th>\n",
       "      <th>Width</th>\n",
       "      <th>Height</th>\n",
       "      <th>Roi.X1</th>\n",
       "      <th>Roi.Y1</th>\n",
       "      <th>Roi.X2</th>\n",
       "      <th>Roi.Y2</th>\n",
       "      <th>ClassId</th>\n",
       "      <th>Path</th>\n",
       "    </tr>\n",
       "  </thead>\n",
       "  <tbody>\n",
       "    <tr>\n",
       "      <th>0</th>\n",
       "      <td>53</td>\n",
       "      <td>54</td>\n",
       "      <td>6</td>\n",
       "      <td>5</td>\n",
       "      <td>48</td>\n",
       "      <td>49</td>\n",
       "      <td>16</td>\n",
       "      <td>Test/00000.png</td>\n",
       "    </tr>\n",
       "    <tr>\n",
       "      <th>1</th>\n",
       "      <td>42</td>\n",
       "      <td>45</td>\n",
       "      <td>5</td>\n",
       "      <td>5</td>\n",
       "      <td>36</td>\n",
       "      <td>40</td>\n",
       "      <td>1</td>\n",
       "      <td>Test/00001.png</td>\n",
       "    </tr>\n",
       "    <tr>\n",
       "      <th>2</th>\n",
       "      <td>48</td>\n",
       "      <td>52</td>\n",
       "      <td>6</td>\n",
       "      <td>6</td>\n",
       "      <td>43</td>\n",
       "      <td>47</td>\n",
       "      <td>38</td>\n",
       "      <td>Test/00002.png</td>\n",
       "    </tr>\n",
       "    <tr>\n",
       "      <th>3</th>\n",
       "      <td>27</td>\n",
       "      <td>29</td>\n",
       "      <td>5</td>\n",
       "      <td>5</td>\n",
       "      <td>22</td>\n",
       "      <td>24</td>\n",
       "      <td>33</td>\n",
       "      <td>Test/00003.png</td>\n",
       "    </tr>\n",
       "    <tr>\n",
       "      <th>4</th>\n",
       "      <td>60</td>\n",
       "      <td>57</td>\n",
       "      <td>5</td>\n",
       "      <td>5</td>\n",
       "      <td>55</td>\n",
       "      <td>52</td>\n",
       "      <td>11</td>\n",
       "      <td>Test/00004.png</td>\n",
       "    </tr>\n",
       "  </tbody>\n",
       "</table>\n",
       "</div>"
      ],
      "text/plain": [
       "   Width  Height  Roi.X1  Roi.Y1  Roi.X2  Roi.Y2  ClassId            Path\n",
       "0     53      54       6       5      48      49       16  Test/00000.png\n",
       "1     42      45       5       5      36      40        1  Test/00001.png\n",
       "2     48      52       6       6      43      47       38  Test/00002.png\n",
       "3     27      29       5       5      22      24       33  Test/00003.png\n",
       "4     60      57       5       5      55      52       11  Test/00004.png"
      ]
     },
     "execution_count": 62,
     "metadata": {},
     "output_type": "execute_result"
    }
   ],
   "source": [
    "# Evaluate our model with Test data\n",
    "y_test = pd.read_csv(\"Test.csv\")\n",
    "y_test.head()"
   ]
  },
  {
   "cell_type": "code",
   "execution_count": 63,
   "metadata": {},
   "outputs": [
    {
     "name": "stderr",
     "output_type": "stream",
     "text": [
      "/usr/lib/python3/dist-packages/ipykernel_launcher.py:1: FutureWarning: Method .as_matrix will be removed in a future version. Use .values instead.\n",
      "  \"\"\"Entry point for launching an IPython kernel.\n"
     ]
    },
    {
     "data": {
      "text/plain": [
       "12630"
      ]
     },
     "execution_count": 63,
     "metadata": {},
     "output_type": "execute_result"
    }
   ],
   "source": [
    "labels=y_test[\"Path\"].as_matrix()\n",
    "y_test = y_test[\"ClassId\"].values\n",
    "\n",
    "data=[]\n",
    "for f in labels:\n",
    "    image=cv2.imread(f)\n",
    "    image_from_array = Image.fromarray(image, 'RGB')\n",
    "    size_image = image_from_array.resize((height, width))\n",
    "    data.append(np.array(size_image))\n",
    "\n",
    "len(data)"
   ]
  },
  {
   "cell_type": "code",
   "execution_count": 64,
   "metadata": {},
   "outputs": [],
   "source": [
    "X_test=np.array(data)\n",
    "X_test = X_test.astype('float32')/255 \n",
    "pred = model.predict_classes(X_test)"
   ]
  },
  {
   "cell_type": "code",
   "execution_count": 66,
   "metadata": {},
   "outputs": [
    {
     "data": {
      "text/plain": [
       "0.9686460807600951"
      ]
     },
     "execution_count": 66,
     "metadata": {},
     "output_type": "execute_result"
    }
   ],
   "source": [
    "from sklearn.metrics import accuracy_score\n",
    "accuracy_score(y_test, pred)"
   ]
  },
  {
   "cell_type": "code",
   "execution_count": 68,
   "metadata": {},
   "outputs": [
    {
     "name": "stdout",
     "output_type": "stream",
     "text": [
      "              precision    recall  f1-score   support\n",
      "\n",
      "           0       1.00      0.92      0.96        60\n",
      "           1       0.95      1.00      0.97       720\n",
      "           2       0.99      0.98      0.99       750\n",
      "           3       0.96      0.94      0.95       450\n",
      "           4       0.99      0.99      0.99       660\n",
      "           5       0.92      0.99      0.95       630\n",
      "           6       0.97      0.76      0.85       150\n",
      "           7       0.99      0.94      0.97       450\n",
      "           8       0.96      0.96      0.96       450\n",
      "           9       0.96      1.00      0.98       480\n",
      "          10       1.00      0.99      1.00       660\n",
      "          11       0.94      0.98      0.96       420\n",
      "          12       1.00      0.97      0.98       690\n",
      "          13       0.98      1.00      0.99       720\n",
      "          14       0.99      1.00      1.00       270\n",
      "          15       0.94      1.00      0.97       210\n",
      "          16       0.97      0.99      0.98       150\n",
      "          17       1.00      1.00      1.00       360\n",
      "          18       0.97      0.94      0.96       390\n",
      "          19       0.94      1.00      0.97        60\n",
      "          20       0.83      1.00      0.91        90\n",
      "          21       0.92      0.97      0.94        90\n",
      "          22       0.97      0.91      0.94       120\n",
      "          23       0.95      0.97      0.96       150\n",
      "          24       0.91      0.93      0.92        90\n",
      "          25       0.96      0.96      0.96       480\n",
      "          26       0.90      0.88      0.89       180\n",
      "          27       0.97      0.50      0.66        60\n",
      "          28       0.96      0.96      0.96       150\n",
      "          29       0.90      1.00      0.95        90\n",
      "          30       0.95      0.82      0.88       150\n",
      "          31       0.99      0.98      0.99       270\n",
      "          32       0.80      1.00      0.89        60\n",
      "          33       0.99      1.00      0.99       210\n",
      "          34       1.00      0.99      1.00       120\n",
      "          35       1.00      1.00      1.00       390\n",
      "          36       0.98      0.99      0.98       120\n",
      "          37       0.98      1.00      0.99        60\n",
      "          38       1.00      0.98      0.99       690\n",
      "          39       1.00      0.99      0.99        90\n",
      "          40       0.97      0.96      0.96        90\n",
      "          41       0.86      0.73      0.79        60\n",
      "          42       0.82      0.84      0.83        90\n",
      "\n",
      "    accuracy                           0.97     12630\n",
      "   macro avg       0.95      0.95      0.95     12630\n",
      "weighted avg       0.97      0.97      0.97     12630\n",
      "\n"
     ]
    }
   ],
   "source": [
    "from sklearn.metrics import confusion_matrix, classification_report\n",
    "print(classification_report(y_test,pred))"
   ]
  },
  {
   "cell_type": "code",
   "execution_count": null,
   "metadata": {},
   "outputs": [],
   "source": []
  }
 ],
 "metadata": {
  "kernelspec": {
   "display_name": "Python 3",
   "language": "python",
   "name": "python3"
  },
  "language_info": {
   "codemirror_mode": {
    "name": "ipython",
    "version": 3
   },
   "file_extension": ".py",
   "mimetype": "text/x-python",
   "name": "python",
   "nbconvert_exporter": "python",
   "pygments_lexer": "ipython3",
   "version": "3.6.8"
  }
 },
 "nbformat": 4,
 "nbformat_minor": 2
}
