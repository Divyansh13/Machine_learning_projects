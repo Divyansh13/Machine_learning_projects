{
 "cells": [
  {
   "cell_type": "markdown",
   "metadata": {},
   "source": [
    "# Visualizing dataset"
   ]
  },
  {
   "cell_type": "code",
   "execution_count": 1,
   "metadata": {},
   "outputs": [],
   "source": [
    "import cv2\n",
    "import glob\n",
    "import numpy as np\n",
    "import matplotlib.pyplot as plt"
   ]
  },
  {
   "cell_type": "markdown",
   "metadata": {},
   "source": [
    "### Our dataset contains different folders with threshold images of plate digit. Folders with names from 0-10 represent its self. Folders with names from 65 - 90 represents the ASCII value of Uppercase Alphabet letter  (A,B,C, etc)"
   ]
  },
  {
   "cell_type": "code",
   "execution_count": 22,
   "metadata": {},
   "outputs": [
    {
     "name": "stdout",
     "output_type": "stream",
     "text": [
      "['0', '1', '2', '3', '4', '5', '6', '7', '8', '9', 'A', 'B', 'C', 'D', 'E', 'F', 'G', 'H', 'I', 'J', 'K', 'L', 'M', 'N', 'O', 'P', 'Q', 'R', 'S', 'T', 'U', 'V', 'W', 'X', 'Y', 'Z']\n"
     ]
    }
   ],
   "source": [
    "\n",
    "#label_dataset = glob.glob(\"data/*\")\n",
    "label_dataset = glob.glob(\"dataset/*\")\n",
    "\n",
    "labels =[]\n",
    "\n",
    "for label in label_dataset:\n",
    "    labels.append(label[-1:])\n",
    "print(labels)"
   ]
  },
  {
   "cell_type": "code",
   "execution_count": 24,
   "metadata": {},
   "outputs": [
    {
     "name": "stdout",
     "output_type": "stream",
     "text": [
      "(36, 1)\n"
     ]
    },
    {
     "data": {
      "text/plain": [
       "array([['0'],\n",
       "       ['1'],\n",
       "       ['2'],\n",
       "       ['3'],\n",
       "       ['4'],\n",
       "       ['5'],\n",
       "       ['6'],\n",
       "       ['7'],\n",
       "       ['8'],\n",
       "       ['9']], dtype='<U1')"
      ]
     },
     "execution_count": 24,
     "metadata": {},
     "output_type": "execute_result"
    }
   ],
   "source": [
    "y = np.asarray(labels)\n",
    "#y = np.sort(y, axis=None)\n",
    "y = y.reshape(-1,1)\n",
    "print(y.shape)\n",
    "y[:10]"
   ]
  },
  {
   "cell_type": "code",
   "execution_count": 31,
   "metadata": {},
   "outputs": [
    {
     "data": {
      "text/plain": [
       "'dataset/L/*.jpg'"
      ]
     },
     "execution_count": 31,
     "metadata": {},
     "output_type": "execute_result"
    }
   ],
   "source": [
    "\"dataset/%s/*.jpg\"%(y[rand][0])"
   ]
  },
  {
   "cell_type": "code",
   "execution_count": 34,
   "metadata": {},
   "outputs": [
    {
     "data": {
      "image/png": "[encoded data removed]",
      "text/plain": [
       "<Figure size 576x576 with 16 Axes>"
      ]
     },
     "metadata": {
      "needs_background": "light"
     },
     "output_type": "display_data"
    }
   ],
   "source": [
    "fig = plt.figure(figsize=(8,8))\n",
    "cols = 4\n",
    "rows = 4\n",
    "fig_list = []\n",
    "\n",
    "for i in range(1, cols*rows+1):\n",
    "    rand = np.random.randint(len(y))\n",
    "    #image_name = glob.glob(\"data/%i/*.jpg\"%max(y[rand]))\n",
    "    image_name = glob.glob(\"dataset/%s/*.jpg\"%(y[rand][0]))\n",
    "    rand_image = np.random.randint(len(image_name))\n",
    "    fig_list.append(fig.add_subplot(rows,cols,i))\n",
    "    fig_list[-1].set_title(\"%s\"%y[rand])\n",
    "    img = cv2.imread(image_name[rand_image],0)\n",
    "    plt.imshow(img, cmap=\"gray\")\n",
    "\n",
    "plt.tight_layout(True)\n",
    "plt.show()"
   ]
  },
  {
   "cell_type": "markdown",
   "metadata": {},
   "source": [
    "# Preprocessing"
   ]
  },
  {
   "cell_type": "code",
   "execution_count": 36,
   "metadata": {},
   "outputs": [
    {
     "name": "stdout",
     "output_type": "stream",
     "text": [
      "(36576, 1800)\n",
      "(36576, 1)\n"
     ]
    }
   ],
   "source": [
    "digit_w = 30\n",
    "digit_h = 60\n",
    "\n",
    "input_data = []\n",
    "output_data = []\n",
    "\n",
    "for i in range(len(y)):\n",
    "    #image_path =glob.glob(\"data/%i/*.jpg\"%y[i])\n",
    "    image_path =glob.glob(\"dataset/%s/*.jpg\"%y[i])\n",
    "    for image in image_path:\n",
    "        img = cv2.imread(image,0)\n",
    "        img = cv2.resize(img,(digit_w,digit_h))\n",
    "        img = np.array(img)\n",
    "        img = img.reshape(-1, digit_h * digit_w)\n",
    "        input_data.append(img)\n",
    "        output_data.append(y[i])\n",
    "\n",
    "input_data = np.array(input_data).astype(np.float32)\n",
    "input_data =input_data.reshape(-1,digit_w*digit_h)\n",
    "output_data = np.array(output_data)\n",
    "output_data =output_data.reshape(-1,1)\n",
    "\n",
    "print(input_data.shape)\n",
    "print(output_data.shape)\n",
    "\n"
   ]
  },
  {
   "cell_type": "markdown",
   "metadata": {},
   "source": [
    "# Create a SVC model and train with pre-processed dataset"
   ]
  },
  {
   "cell_type": "code",
   "execution_count": null,
   "metadata": {},
   "outputs": [
    {
     "name": "stderr",
     "output_type": "stream",
     "text": [
      "C:\\ProgramData\\Anaconda3\\lib\\site-packages\\sklearn\\model_selection\\_split.py:1978: FutureWarning: The default value of cv will change from 3 to 5 in version 0.22. Specify it explicitly to silence this warning.\n",
      "  warnings.warn(CV_WARNING, FutureWarning)\n",
      "C:\\ProgramData\\Anaconda3\\lib\\site-packages\\sklearn\\utils\\validation.py:724: DataConversionWarning: A column-vector y was passed when a 1d array was expected. Please change the shape of y to (n_samples, ), for example using ravel().\n",
      "  y = column_or_1d(y, warn=True)\n",
      "C:\\ProgramData\\Anaconda3\\lib\\site-packages\\sklearn\\utils\\validation.py:724: DataConversionWarning: A column-vector y was passed when a 1d array was expected. Please change the shape of y to (n_samples, ), for example using ravel().\n",
      "  y = column_or_1d(y, warn=True)\n",
      "C:\\ProgramData\\Anaconda3\\lib\\site-packages\\sklearn\\utils\\validation.py:724: DataConversionWarning: A column-vector y was passed when a 1d array was expected. Please change the shape of y to (n_samples, ), for example using ravel().\n",
      "  y = column_or_1d(y, warn=True)\n",
      "C:\\ProgramData\\Anaconda3\\lib\\site-packages\\sklearn\\utils\\validation.py:724: DataConversionWarning: A column-vector y was passed when a 1d array was expected. Please change the shape of y to (n_samples, ), for example using ravel().\n",
      "  y = column_or_1d(y, warn=True)\n",
      "C:\\ProgramData\\Anaconda3\\lib\\site-packages\\sklearn\\svm\\base.py:193: FutureWarning: The default value of gamma will change from 'auto' to 'scale' in version 0.22 to account better for unscaled features. Set gamma explicitly to 'auto' or 'scale' to avoid this warning.\n",
      "  \"avoid this warning.\", FutureWarning)\n"
     ]
    }
   ],
   "source": [
    "from sklearn.svm import SVC\n",
    "from sklearn.model_selection import GridSearchCV\n",
    "parameters = {'kernel':('linear', 'rbf'), 'C':[1, 10]}\n",
    "svc_model = GridSearchCV(SVC(), parameters)\n",
    "\n",
    "svc_model.fit(input_data,output_data)"
   ]
  },
  {
   "cell_type": "markdown",
   "metadata": {},
   "source": [
    "# Evaluate the model"
   ]
  },
  {
   "cell_type": "code",
   "execution_count": 253,
   "metadata": {},
   "outputs": [
    {
     "name": "stdout",
     "output_type": "stream",
     "text": [
      "              precision    recall  f1-score   support\n",
      "\n",
      "           0       1.00      1.00      1.00        69\n",
      "           1       1.00      1.00      1.00        58\n",
      "           2       1.00      1.00      1.00        67\n",
      "           3       1.00      1.00      1.00        20\n",
      "           4       1.00      1.00      1.00         9\n",
      "           5       1.00      1.00      1.00        69\n",
      "           6       1.00      1.00      1.00        51\n",
      "           7       1.00      1.00      1.00        22\n",
      "           8       1.00      1.00      1.00        40\n",
      "           9       1.00      1.00      1.00        41\n",
      "          65       1.00      1.00      1.00        18\n",
      "          66       1.00      1.00      1.00        54\n",
      "          67       1.00      1.00      1.00        36\n",
      "          68       1.00      1.00      1.00        52\n",
      "          69       1.00      1.00      1.00        48\n",
      "          70       1.00      1.00      1.00        12\n",
      "          71       1.00      1.00      1.00        21\n",
      "          72       1.00      1.00      1.00        60\n",
      "          75       1.00      1.00      1.00        14\n",
      "          76       1.00      1.00      1.00        18\n",
      "          77       1.00      1.00      1.00        15\n",
      "          78       1.00      1.00      1.00        25\n",
      "          80       1.00      1.00      1.00        60\n",
      "          82       1.00      1.00      1.00        30\n",
      "          83       1.00      1.00      1.00        14\n",
      "          84       1.00      1.00      1.00         5\n",
      "          85       1.00      1.00      1.00        34\n",
      "          86       1.00      1.00      1.00        11\n",
      "          88       1.00      1.00      1.00        32\n",
      "          89       1.00      1.00      1.00        18\n",
      "          90       1.00      1.00      1.00        24\n",
      "\n",
      "    accuracy                           1.00      1047\n",
      "   macro avg       1.00      1.00      1.00      1047\n",
      "weighted avg       1.00      1.00      1.00      1047\n",
      "\n"
     ]
    }
   ],
   "source": [
    "from sklearn.metrics import classification_report\n",
    "pred = svc_model.predict(input_data)\n",
    "print(classification_report(output_data,pred))"
   ]
  },
  {
   "cell_type": "code",
   "execution_count": 254,
   "metadata": {},
   "outputs": [
    {
     "data": {
      "text/plain": [
       "array([0, 0, 0, 0, 0, 0, 0, 0, 0, 0, 0, 0, 0, 0, 0, 0, 0, 0, 0, 0, 0, 0,\n",
       "       0, 0, 0, 0, 0, 0, 0, 0, 0, 0, 0, 0, 0, 0, 0, 0, 0, 0, 0, 0, 0, 0,\n",
       "       0, 0, 0, 0, 0, 0, 0, 0, 0, 0, 0, 0, 0, 0, 0, 0, 0, 0, 0, 0, 0, 0,\n",
       "       0, 0, 0, 1, 1, 1, 1, 1, 1, 1, 1, 1, 1, 1, 1, 1, 1, 1, 1, 1, 1, 1,\n",
       "       1, 1, 1, 1, 1, 1, 1, 1, 1, 1, 1, 1, 1, 1, 1, 1, 1, 1, 1, 1, 1, 1,\n",
       "       1, 1, 1, 1, 1, 1, 1, 1, 1, 1, 1, 1, 1, 1, 1, 1, 1, 2, 2, 2, 2, 2,\n",
       "       2, 2, 2, 2, 2, 2, 2, 2, 2, 2, 2, 2, 2, 2, 2, 2, 2, 2, 2, 2, 2, 2,\n",
       "       2, 2, 2, 2, 2, 2, 2, 2, 2, 2, 2, 2, 2, 2, 2, 2, 2, 2, 2, 2, 2, 2,\n",
       "       2, 2, 2, 2, 2, 2, 2, 2, 2, 2, 2, 2, 2, 2, 2, 2, 2, 2, 3, 3, 3, 3,\n",
       "       3, 3])"
      ]
     },
     "execution_count": 254,
     "metadata": {},
     "output_type": "execute_result"
    }
   ],
   "source": [
    "pred[:200]"
   ]
  },
  {
   "cell_type": "markdown",
   "metadata": {},
   "source": [
    "# Test model"
   ]
  },
  {
   "cell_type": "code",
   "execution_count": 2,
   "metadata": {},
   "outputs": [],
   "source": [
    "def pre_process(image):\n",
    "    import numpy as np\n",
    "    import cv2\n",
    "    \n",
    "    img = cv2.resize(image,(30,60))\n",
    "    img = np.asarray(img,dtype=np.float32)\n",
    "    #print(img.shape)\n",
    "    img = img[np.newaxis,:].reshape(-1,60*30)\n",
    "    #print(img.shape)\n",
    "    return img\n"
   ]
  },
  {
   "cell_type": "code",
   "execution_count": 255,
   "metadata": {},
   "outputs": [
    {
     "data": {
      "text/plain": [
       "array([69])"
      ]
     },
     "execution_count": 255,
     "metadata": {},
     "output_type": "execute_result"
    },
    {
     "data": {
      "image/png": "[encoded data removed]",
      "text/plain": [
       "<Figure size 432x288 with 1 Axes>"
      ]
     },
     "metadata": {
      "needs_background": "light"
     },
     "output_type": "display_data"
    }
   ],
   "source": [
    "test_image = cv2.imread(\"data/69/193772_1.jpg\",0)\n",
    "plt.imshow(test_image,cmap=\"gray\")\n",
    "\n",
    "\n",
    "image = pre_process(test_image)\n",
    "svc_model.predict(image)\n"
   ]
  },
  {
   "cell_type": "code",
   "execution_count": 256,
   "metadata": {},
   "outputs": [
    {
     "data": {
      "text/plain": [
       "array([6])"
      ]
     },
     "execution_count": 256,
     "metadata": {},
     "output_type": "execute_result"
    },
    {
     "data": {
      "image/png": "[encoded data removed]",
      "text/plain": [
       "<Figure size 432x288 with 1 Axes>"
      ]
     },
     "metadata": {
      "needs_background": "light"
     },
     "output_type": "display_data"
    }
   ],
   "source": [
    "test_image = cv2.imread(\"data/6/46328_3.jpg\",0)\n",
    "plt.imshow(test_image,cmap=\"gray\")\n",
    "\n",
    "\n",
    "image = pre_process(test_image)\n",
    "svc_model.predict(image)\n"
   ]
  },
  {
   "cell_type": "code",
   "execution_count": 268,
   "metadata": {},
   "outputs": [
    {
     "name": "stdout",
     "output_type": "stream",
     "text": [
      "[8]\n"
     ]
    },
    {
     "data": {
      "image/png": "[encoded data removed]",
      "text/plain": [
       "<Figure size 432x288 with 1 Axes>"
      ]
     },
     "metadata": {
      "needs_background": "light"
     },
     "output_type": "display_data"
    }
   ],
   "source": [
    "three_image = cv2.imread(\"test/8_test.jpg\",0)\n",
    "plt.imshow(three_image,cmap=\"gray\")\n",
    "\n",
    "img = pre_process(three_image)\n",
    "print(svc_model.predict(img))"
   ]
  },
  {
   "cell_type": "code",
   "execution_count": 267,
   "metadata": {},
   "outputs": [
    {
     "name": "stdout",
     "output_type": "stream",
     "text": [
      "[70]\n"
     ]
    },
    {
     "data": {
      "image/png": "[encoded data removed]",
      "text/plain": [
       "<Figure size 432x288 with 1 Axes>"
      ]
     },
     "metadata": {
      "needs_background": "light"
     },
     "output_type": "display_data"
    }
   ],
   "source": [
    "three_image = cv2.imread(\"test/f_test.jpg\",0)\n",
    "plt.imshow(three_image,cmap=\"gray\")\n",
    "\n",
    "img = pre_process(three_image)\n",
    "print(svc_model.predict(img))"
   ]
  },
  {
   "cell_type": "code",
   "execution_count": 10,
   "metadata": {},
   "outputs": [
    {
     "name": "stdout",
     "output_type": "stream",
     "text": [
      "[2]\n"
     ]
    },
    {
     "data": {
      "image/png": "[encoded data removed]",
      "text/plain": [
       "<Figure size 432x288 with 1 Axes>"
      ]
     },
     "metadata": {
      "needs_background": "light"
     },
     "output_type": "display_data"
    }
   ],
   "source": [
    "one_image = cv2.imread(\"test/one_test.jpg\",0)\n",
    "plt.imshow(one_image,cmap=\"gray\")\n",
    "\n",
    "img = pre_process(one_image)\n",
    "print(svc_model.predict(img))"
   ]
  },
  {
   "cell_type": "markdown",
   "metadata": {},
   "source": [
    "# Save model"
   ]
  },
  {
   "cell_type": "code",
   "execution_count": 258,
   "metadata": {},
   "outputs": [
    {
     "data": {
      "text/plain": [
       "['svc_digit_recognition.joblib']"
      ]
     },
     "execution_count": 258,
     "metadata": {},
     "output_type": "execute_result"
    }
   ],
   "source": [
    "from sklearn.externals import joblib\n",
    "joblib.dump(svc_model,\"svc_digit_recognition.joblib\")"
   ]
  },
  {
   "cell_type": "code",
   "execution_count": 7,
   "metadata": {},
   "outputs": [],
   "source": [
    "from sklearn.externals import joblib\n",
    "svc_model = joblib.load(\"svc_digit_recognition.joblib\")"
   ]
  },
  {
   "cell_type": "markdown",
   "metadata": {},
   "source": [
    "# The end!"
   ]
  }
 ],
 "metadata": {
  "kernelspec": {
   "display_name": "Python 3",
   "language": "python",
   "name": "python3"
  },
  "language_info": {
   "codemirror_mode": {
    "name": "ipython",
    "version": 3
   },
   "file_extension": ".py",
   "mimetype": "text/x-python",
   "name": "python",
   "nbconvert_exporter": "python",
   "pygments_lexer": "ipython3",
   "version": "3.7.1"
  }
 },
 "nbformat": 4,
 "nbformat_minor": 2
}
